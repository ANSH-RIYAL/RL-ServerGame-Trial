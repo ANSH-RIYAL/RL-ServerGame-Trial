{
 "cells": [
  {
   "cell_type": "code",
   "execution_count": 1,
   "metadata": {},
   "outputs": [],
   "source": [
    "# Imports\n",
    "\n",
    "import math\n",
    "import random\n",
    "import numpy as np\n",
    "import matplotlib\n",
    "import matplotlib.pyplot as plt\n",
    "from collections import namedtuple\n",
    "from itertools import count\n",
    "# from PIL import Image\n",
    "\n",
    "import torch\n",
    "import torch.nn as nn\n",
    "import torch.optim as optim\n",
    "import torch.nn.functional as F\n",
    "import torchvision.transforms as T"
   ]
  },
  {
   "cell_type": "code",
   "execution_count": 2,
   "metadata": {},
   "outputs": [],
   "source": [
    "import cv2"
   ]
  },
  {
   "cell_type": "code",
   "execution_count": 4,
   "metadata": {
    "scrolled": true
   },
   "outputs": [
    {
     "name": "stdout",
     "output_type": "stream",
     "text": [
      "(1080, 1080, 3)\n"
     ]
    }
   ],
   "source": [
    "hero = cv2.imread(\"./images/mainMonster.jpg\")\n",
    "print(hero.shape)\n",
    "hero = cv2.resize(hero, (64,64))\n",
    "cv2.imshow(\"window1\",hero)\n",
    "# cv2.waitKey()\n",
    "# cv2.destroyAllWindows()"
   ]
  },
  {
   "cell_type": "code",
   "execution_count": 3,
   "metadata": {},
   "outputs": [
    {
     "name": "stdout",
     "output_type": "stream",
     "text": [
      "(600, 800, 3)\n"
     ]
    }
   ],
   "source": [
    "otherPlayer = cv2.imread(\"./images/otherMonster.jpg\")\n",
    "print(otherPlayer.shape)\n",
    "otherPlayer = cv2.resize(otherPlayer, (64,64))\n",
    "cv2.imshow(\"window2\",otherPlayer)\n",
    "# cv2.waitKey()\n",
    "# cv2.destroyAllWindows()"
   ]
  },
  {
   "cell_type": "code",
   "execution_count": 5,
   "metadata": {},
   "outputs": [
    {
     "name": "stdout",
     "output_type": "stream",
     "text": [
      "(588, 880, 3)\n"
     ]
    }
   ],
   "source": [
    "smallFruit = cv2.imread(\"./images/smallFruit.png\")\n",
    "print(smallFruit.shape)\n",
    "smallFruit = cv2.resize(smallFruit, (64,64))\n",
    "cv2.imshow(\"window3\",smallFruit)\n",
    "# cv2.waitKey()\n",
    "# cv2.destroyAllWindows()"
   ]
  },
  {
   "cell_type": "code",
   "execution_count": 6,
   "metadata": {},
   "outputs": [
    {
     "name": "stdout",
     "output_type": "stream",
     "text": [
      "(719, 800, 3)\n"
     ]
    }
   ],
   "source": [
    "bigFruit = cv2.imread(\"./images/bigFruit.jpg\")\n",
    "print(bigFruit.shape)\n",
    "bigFruit = cv2.resize(bigFruit, (64,64))\n",
    "cv2.imshow(\"window4\",bigFruit)\n",
    "cv2.waitKey()\n",
    "cv2.destroyAllWindows()"
   ]
  },
  {
   "cell_type": "code",
   "execution_count": 7,
   "metadata": {},
   "outputs": [
    {
     "name": "stdout",
     "output_type": "stream",
     "text": [
      "[[[242 216 150]\n",
      "  [242 216 150]\n",
      "  [242 216 150]\n",
      "  ...\n",
      "  [242 216 150]\n",
      "  [242 216 150]\n",
      "  [242 216 150]]\n",
      "\n",
      " [[242 216 150]\n",
      "  [242 216 150]\n",
      "  [242 216 150]\n",
      "  ...\n",
      "  [242 216 150]\n",
      "  [242 216 150]\n",
      "  [242 216 150]]\n",
      "\n",
      " [[242 216 150]\n",
      "  [242 216 150]\n",
      "  [242 216 150]\n",
      "  ...\n",
      "  [242 216 150]\n",
      "  [242 216 150]\n",
      "  [242 216 150]]\n",
      "\n",
      " ...\n",
      "\n",
      " [[242 216 150]\n",
      "  [242 216 150]\n",
      "  [242 216 150]\n",
      "  ...\n",
      "  [242 216 150]\n",
      "  [242 216 150]\n",
      "  [242 216 150]]\n",
      "\n",
      " [[242 216 150]\n",
      "  [242 216 150]\n",
      "  [242 216 150]\n",
      "  ...\n",
      "  [242 216 150]\n",
      "  [242 216 150]\n",
      "  [242 216 150]]\n",
      "\n",
      " [[242 216 150]\n",
      "  [242 216 150]\n",
      "  [242 216 150]\n",
      "  ...\n",
      "  [242 216 150]\n",
      "  [242 216 150]\n",
      "  [242 216 150]]]\n"
     ]
    }
   ],
   "source": [
    "print(hero)"
   ]
  },
  {
   "cell_type": "code",
   "execution_count": 11,
   "metadata": {},
   "outputs": [
    {
     "name": "stdout",
     "output_type": "stream",
     "text": [
      "(64, 64, 3) (64, 64, 3) (64, 64, 3) (64, 64, 3)\n"
     ]
    }
   ],
   "source": [
    "print(hero.shape, otherPlayer.shape, smallFruit.shape, bigFruit.shape)"
   ]
  },
  {
   "cell_type": "code",
   "execution_count": 12,
   "metadata": {},
   "outputs": [],
   "source": [
    "# Render Help Functions\n",
    "\n",
    "def overWrite(startI, startJ, originalImage, smallImage):\n",
    "    for i in range(smallImage.shape[0]):\n",
    "        for j in range(smallImage.shape[1]):\n",
    "            originalImage[startI + i][startJ + j] = smallImage[i][j]\n",
    "    return originalImage\n",
    "\n",
    "# def displayBoard(board, direction, ownI, ownJ):\n",
    "def displayBoard(board, ownI, ownJ):\n",
    "    # board is the board position matrix of size 6x9 such that player is at index [5][4] (bottom center)\n",
    "    image = np.zeros((64*9, 64*9, 3), dtype = np.uint8)\n",
    "    board = np.asarray(board)\n",
    "    print(board)\n",
    "    for i in range(board.shape[0]):\n",
    "        for j in range(board.shape[1]):\n",
    "            if board[i][j] == 1:\n",
    "                overWrite(64*i,64*j,image,otherPlayer)\n",
    "            elif board[i][j] == 2:\n",
    "                overWrite(64*i,64*j,image,smallFruit)\n",
    "            elif board[i][j] == 3:\n",
    "                overWrite(64*i,64*j,image,bigFruit)\n",
    "    overWrite(64*ownI,64*ownJ,image,hero)\n",
    "    return image\n",
    "    "
   ]
  },
  {
   "cell_type": "code",
   "execution_count": 13,
   "metadata": {},
   "outputs": [],
   "source": [
    "# Static movement and rendering:"
   ]
  },
  {
   "cell_type": "code",
   "execution_count": null,
   "metadata": {},
   "outputs": [],
   "source": [
    "mainServer = 5001\n",
    "\n",
    "# Dummy user:\n",
    "\n",
    "req = {\n",
    "'agentId': 1007,\n",
    "'initial_i': 19,\n",
    "'initial_j': 28\n",
    "}\n",
    "\n",
    "res = requests.post(\"http://localhost:{}/addAgent\".format(mainServer), json = req)\n",
    "# print(res)\n",
    "\n",
    "# Real Agent:\n",
    "\n",
    "req = {\n",
    "'agentId': 123,\n",
    "'initial_i': 20,\n",
    "'initial_j': 23\n",
    "}\n",
    "\n",
    "res = requests.post(\"http://localhost:{}/addAgent\".format(mainServer), json = req)\n",
    "# print(res)\n",
    "\n",
    "req = {\n",
    "\t'agentId': 123\n",
    "}\n",
    "resField = requests.post(\"http://localhost:{}/checkField\".format(mainServer), json = req)\n",
    "# print(resField.json().content)\n",
    "\n",
    "# cv2.imshow(\"window\", displayBoard(resField, 5, 5))\n",
    "# cv2.waitKey()\n",
    "\n",
    "# for i in json.loads(resField.json().get(\"field\")):\n",
    "# \tfor j in i:\n",
    "# \t\tprint(j, end = \" \")\n",
    "# \tprint()\n",
    "\n",
    "ch = int(input(\"\\n\\nEnter direction choice:\\nPS: 6 to exit\\n\\n\"))\n",
    "\n",
    "req = {\n",
    "\t'agentId': 123\n",
    "}\n",
    "resField = requests.post(\"http://localhost:{}/checkField\".format(mainServer), json = req)\n",
    "field = json.loads(resField.json().get(\"field\"))\n",
    "\n",
    "print(type(field))\n",
    "print(field)\n",
    "print(type(field[0]))\n",
    "\n",
    "cv2.imshow(\"window\", displayBoard(field, 5, 5))\n",
    "cv2.waitKey(20)\n",
    "# for i in field:\n",
    "# \tfor j in i:\n",
    "# \t\tprint(j, end = \" \")\n",
    "# \tprint()\n",
    "\n",
    "while True:\n",
    "\tch = intelligentPlayer()\n",
    "\n",
    "\treq = {\n",
    "\t'agentId': 123,\n",
    "\t'action': str(ch)\n",
    "\t}\n",
    "\t# print(req)\n",
    "\tres = requests.post(\"http://localhost:{}/moveAgent\".format(mainServer), json = req)\n",
    "\t# print(res)\n",
    "\n",
    "\treq = {\n",
    "\t'agentId': 123\n",
    "\t}\n",
    "\tresField = requests.post(\"http://localhost:{}/checkField\".format(mainServer), json = req)\n",
    "\n",
    "\tfield = json.loads(resField.json().get(\"field\"))\n",
    "\timg = displayBoard(field, 4, 4)\n",
    "\tprint(\"Here before displaying:\\n\\n\")\n",
    "\tcv2.imshow(\"window\", img)\n",
    "\tcv2.waitKey(20)\n",
    "\tprint(\"Here!\")\n",
    "# \tfor i in field:\n",
    "# \t\tfor j in i:\n",
    "# \t\t\tprint(j, end = \" \")\n",
    "# \t\tprint()\n",
    "\n",
    "cv2.destroyAllWindows()\n",
    "\n"
   ]
  },
  {
   "cell_type": "code",
   "execution_count": null,
   "metadata": {},
   "outputs": [],
   "source": [
    "# RL help functions\n",
    "def getField():\n",
    "    field = json.loads(resField.json().get(\"field\"))\n",
    "    return np.asarray(field)\n",
    "\n",
    "def moveAgent(moveValue, agentID):\n",
    "    \n",
    "    req = {\n",
    "        \"agentID\": agentID,\n",
    "        \"action\": str(moveValue)\n",
    "    }\n",
    "    \n",
    "    res = requests.post(\"http://localhost:{}/moveAgent\".format(mainServer), json = req)\n",
    "    \n",
    "    return res\n",
    "    \n"
   ]
  },
  {
   "cell_type": "code",
   "execution_count": null,
   "metadata": {},
   "outputs": [],
   "source": []
  },
  {
   "cell_type": "code",
   "execution_count": null,
   "metadata": {},
   "outputs": [],
   "source": [
    "Transition = namedtuple('Transition',\n",
    "                        ('state', 'action', 'next_state', 'reward'))\n",
    "\n",
    "\n",
    "class ReplayMemory(object):\n",
    "\n",
    "    def __init__(self, capacity):\n",
    "        self.capacity = capacity\n",
    "        self.memory = []\n",
    "        self.position = 0\n",
    "\n",
    "    def push(self, *args):\n",
    "        \"\"\"Saves a transition.\"\"\"\n",
    "        if len(self.memory) < self.capacity:\n",
    "            self.memory.append(None)\n",
    "        self.memory[self.position] = Transition(*args)\n",
    "        self.position = (self.position + 1) % self.capacity\n",
    "\n",
    "    def sample(self, batch_size):\n",
    "        return random.sample(self.memory, batch_size)\n",
    "\n",
    "    def __len__(self):\n",
    "        return len(self.memory)"
   ]
  },
  {
   "cell_type": "code",
   "execution_count": 70,
   "metadata": {},
   "outputs": [],
   "source": [
    "class DQN2(nn.Module):\n",
    "\n",
    "    def __init__(self, h, w, outputs):\n",
    "        super(DQN2, self).__init__()\n",
    "        self.conv1 = nn.Conv2d(3, 16, kernel_size=5, stride=2)\n",
    "        self.bn1 = nn.BatchNorm2d(16)\n",
    "        self.conv2 = nn.Conv2d(16, 32, kernel_size=5, stride=2)\n",
    "        self.bn2 = nn.BatchNorm2d(32)\n",
    "        self.conv3 = nn.Conv2d(32, 32, kernel_size=5, stride=2)\n",
    "        self.bn3 = nn.BatchNorm2d(32)\n",
    "\n",
    "        # Number of Linear input connections depends on output of conv2d layers\n",
    "        # and therefore the input image size, so compute it.\n",
    "        def conv2d_size_out(size, kernel_size = 5, stride = 2):\n",
    "            return (size - (kernel_size - 1) - 1) // stride  + 1\n",
    "        convw = conv2d_size_out(conv2d_size_out(conv2d_size_out(w)))\n",
    "        convh = conv2d_size_out(conv2d_size_out(conv2d_size_out(h)))\n",
    "        linear_input_size = convw * convh * 32\n",
    "        print(linear_input_size, convw, convh)\n",
    "        self.head = nn.Linear(linear_input_size, outputs)\n",
    "\n",
    "    # Called with either one element to determine next action, or a batch\n",
    "    # during optimization. Returns tensor([[left0exp,right0exp]...]).\n",
    "    def forward(self, x):\n",
    "        x = F.relu(self.bn1(self.conv1(x)))\n",
    "        x = F.relu(self.bn2(self.conv2(x)))\n",
    "        x = F.relu(self.bn3(self.conv3(x)))\n",
    "        return self.head(x.view(x.size(0), -1))"
   ]
  },
  {
   "cell_type": "code",
   "execution_count": 73,
   "metadata": {},
   "outputs": [
    {
     "name": "stdout",
     "output_type": "stream",
     "text": [
      "2048 8 8\n"
     ]
    }
   ],
   "source": [
    "trial2 = DQN2(90,90,5)"
   ]
  },
  {
   "cell_type": "code",
   "execution_count": 64,
   "metadata": {},
   "outputs": [
    {
     "data": {
      "text/plain": [
       "tensor([[[0., 0., 0.,  ..., 0., 0., 0.],\n",
       "         [0., 0., 0.,  ..., 0., 0., 0.],\n",
       "         [0., 0., 0.,  ..., 0., 0., 0.],\n",
       "         ...,\n",
       "         [0., 0., 0.,  ..., 0., 0., 0.],\n",
       "         [0., 0., 0.,  ..., 0., 0., 0.],\n",
       "         [0., 0., 0.,  ..., 0., 0., 0.]],\n",
       "\n",
       "        [[0., 0., 0.,  ..., 0., 0., 0.],\n",
       "         [0., 0., 0.,  ..., 0., 0., 0.],\n",
       "         [0., 0., 0.,  ..., 0., 0., 0.],\n",
       "         ...,\n",
       "         [0., 0., 0.,  ..., 0., 0., 0.],\n",
       "         [0., 0., 0.,  ..., 0., 0., 0.],\n",
       "         [0., 0., 0.,  ..., 0., 0., 0.]],\n",
       "\n",
       "        [[0., 0., 0.,  ..., 0., 0., 0.],\n",
       "         [0., 0., 0.,  ..., 0., 0., 0.],\n",
       "         [0., 0., 0.,  ..., 0., 0., 0.],\n",
       "         ...,\n",
       "         [0., 0., 0.,  ..., 0., 0., 0.],\n",
       "         [0., 0., 0.,  ..., 0., 0., 0.],\n",
       "         [0., 0., 0.,  ..., 0., 0., 0.]]])"
      ]
     },
     "execution_count": 64,
     "metadata": {},
     "output_type": "execute_result"
    }
   ],
   "source": [
    "initialState = np.zeros((10,3,90,90))\n",
    "# initialState\n",
    "initialState = torch.tensor(initialState, dtype = torch.float32)\n",
    "initialState[0]"
   ]
  },
  {
   "cell_type": "code",
   "execution_count": 67,
   "metadata": {},
   "outputs": [
    {
     "name": "stdout",
     "output_type": "stream",
     "text": [
      "tensor([[-0.0152,  0.0155, -0.0158, -0.0060, -0.0127],\n",
      "        [-0.0152,  0.0155, -0.0158, -0.0060, -0.0127],\n",
      "        [-0.0152,  0.0155, -0.0158, -0.0060, -0.0127],\n",
      "        [-0.0152,  0.0155, -0.0158, -0.0060, -0.0127],\n",
      "        [-0.0152,  0.0155, -0.0158, -0.0060, -0.0127],\n",
      "        [-0.0152,  0.0155, -0.0158, -0.0060, -0.0127],\n",
      "        [-0.0152,  0.0155, -0.0158, -0.0060, -0.0127],\n",
      "        [-0.0152,  0.0155, -0.0158, -0.0060, -0.0127],\n",
      "        [-0.0152,  0.0155, -0.0158, -0.0060, -0.0127],\n",
      "        [-0.0152,  0.0155, -0.0158, -0.0060, -0.0127]],\n",
      "       grad_fn=<AddmmBackward>)\n",
      "tensor(0.0155, grad_fn=<MaxBackward1>)\n",
      "\n",
      "\n",
      "\n",
      "\n",
      "torch.return_types.max(\n",
      "values=tensor([0.0155, 0.0155, 0.0155, 0.0155, 0.0155, 0.0155, 0.0155, 0.0155, 0.0155,\n",
      "        0.0155], grad_fn=<MaxBackward0>),\n",
      "indices=tensor([1, 1, 1, 1, 1, 1, 1, 1, 1, 1]))\n",
      "tensor([0.0155, 0.0155, 0.0155, 0.0155, 0.0155, 0.0155, 0.0155, 0.0155, 0.0155,\n",
      "        0.0155], grad_fn=<MaxBackward0>)\n"
     ]
    }
   ],
   "source": [
    "res = trial2(initialState)\n",
    "print(res)\n",
    "print(res.max())\n",
    "print(\"\\n\\n\\n\")\n",
    "print(res.max(1))\n",
    "print(res.max(1)[0])"
   ]
  },
  {
   "cell_type": "code",
   "execution_count": 66,
   "metadata": {},
   "outputs": [
    {
     "data": {
      "text/plain": [
       "torch.Size([10, 5])"
      ]
     },
     "execution_count": 66,
     "metadata": {},
     "output_type": "execute_result"
    }
   ],
   "source": [
    "res.shape"
   ]
  },
  {
   "cell_type": "code",
   "execution_count": 85,
   "metadata": {},
   "outputs": [],
   "source": [
    "# DQN network\n",
    "class DQN(nn.Module):\n",
    "\n",
    "    def __init__(self, h, w, outputs):\n",
    "        super(DQN, self).__init__()\n",
    "#         self.conv1 = nn.Conv2d(3,1,3)\n",
    "#         self.flattener = nn.Flatten(h*w)\n",
    "        self.lin1 = nn.Linear(h*w, 64)\n",
    "        self.lin2 = nn.Linear(64, outputs)\n",
    "\n",
    "    def forward(self, x):\n",
    "#         x = self.flattener(x)\n",
    "        print(x.shape)\n",
    "        x = x.reshape(x.size(0),-1)\n",
    "        print(x.shape)\n",
    "        x = x.squeeze()\n",
    "        print(x.shape)\n",
    "        x = F.relu(self.lin1(x))\n",
    "        print(x.shape)\n",
    "        x = F.relu(self.lin2(x))\n",
    "        print(x.shape)\n",
    "        return x"
   ]
  },
  {
   "cell_type": "code",
   "execution_count": 86,
   "metadata": {},
   "outputs": [],
   "source": [
    "trial = DQN(9,9,5)"
   ]
  },
  {
   "cell_type": "code",
   "execution_count": 87,
   "metadata": {},
   "outputs": [
    {
     "data": {
      "text/plain": [
       "tensor([[[0., 0., 0., 0., 0., 0., 0., 0., 0.],\n",
       "         [0., 0., 0., 0., 0., 0., 0., 0., 0.],\n",
       "         [0., 0., 0., 0., 0., 0., 0., 0., 0.],\n",
       "         [0., 0., 0., 0., 0., 0., 0., 0., 0.],\n",
       "         [0., 0., 0., 0., 0., 0., 0., 0., 0.],\n",
       "         [0., 0., 0., 0., 0., 0., 0., 0., 0.],\n",
       "         [0., 0., 0., 0., 0., 0., 0., 0., 0.],\n",
       "         [0., 0., 0., 0., 0., 0., 0., 0., 0.],\n",
       "         [0., 0., 0., 0., 0., 0., 0., 0., 0.]]])"
      ]
     },
     "execution_count": 87,
     "metadata": {},
     "output_type": "execute_result"
    }
   ],
   "source": [
    "initialState = np.zeros((10,1,9,9))\n",
    "# initialState\n",
    "initialState = torch.tensor(initialState, dtype = torch.float32)\n",
    "initialState[0]"
   ]
  },
  {
   "cell_type": "code",
   "execution_count": 89,
   "metadata": {},
   "outputs": [
    {
     "name": "stdout",
     "output_type": "stream",
     "text": [
      "torch.Size([10, 1, 9, 9])\n",
      "torch.Size([10, 81])\n",
      "torch.Size([10, 81])\n",
      "torch.Size([10, 64])\n",
      "torch.Size([10, 5])\n",
      "tensor([[0.0000, 0.0858, 0.0442, 0.0020, 0.0000],\n",
      "        [0.0000, 0.0858, 0.0442, 0.0020, 0.0000],\n",
      "        [0.0000, 0.0858, 0.0442, 0.0020, 0.0000],\n",
      "        [0.0000, 0.0858, 0.0442, 0.0020, 0.0000],\n",
      "        [0.0000, 0.0858, 0.0442, 0.0020, 0.0000],\n",
      "        [0.0000, 0.0858, 0.0442, 0.0020, 0.0000],\n",
      "        [0.0000, 0.0858, 0.0442, 0.0020, 0.0000],\n",
      "        [0.0000, 0.0858, 0.0442, 0.0020, 0.0000],\n",
      "        [0.0000, 0.0858, 0.0442, 0.0020, 0.0000],\n",
      "        [0.0000, 0.0858, 0.0442, 0.0020, 0.0000]], grad_fn=<ReluBackward0>)\n",
      "tensor(0.0858, grad_fn=<MaxBackward1>)\n",
      "torch.return_types.max(\n",
      "values=tensor([0.0858, 0.0858, 0.0858, 0.0858, 0.0858, 0.0858, 0.0858, 0.0858, 0.0858,\n",
      "        0.0858], grad_fn=<MaxBackward0>),\n",
      "indices=tensor([1, 1, 1, 1, 1, 1, 1, 1, 1, 1]))\n",
      "\n",
      "\n",
      "\n",
      "\n",
      "tensor([1, 1, 1, 1, 1, 1, 1, 1, 1, 1])\n",
      "\n",
      "\n",
      "\n",
      "\n"
     ]
    },
    {
     "ename": "RuntimeError",
     "evalue": "shape '[1, 1]' is invalid for input of size 10",
     "output_type": "error",
     "traceback": [
      "\u001b[0;31m---------------------------------------------------------------------------\u001b[0m",
      "\u001b[0;31mRuntimeError\u001b[0m                              Traceback (most recent call last)",
      "\u001b[0;32m<ipython-input-89-5398ec43245e>\u001b[0m in \u001b[0;36m<module>\u001b[0;34m\u001b[0m\n\u001b[1;32m      6\u001b[0m \u001b[0mprint\u001b[0m\u001b[0;34m(\u001b[0m\u001b[0mres\u001b[0m\u001b[0;34m.\u001b[0m\u001b[0mmax\u001b[0m\u001b[0;34m(\u001b[0m\u001b[0;36m1\u001b[0m\u001b[0;34m)\u001b[0m\u001b[0;34m[\u001b[0m\u001b[0;36m1\u001b[0m\u001b[0;34m]\u001b[0m\u001b[0;34m)\u001b[0m\u001b[0;34m\u001b[0m\u001b[0;34m\u001b[0m\u001b[0m\n\u001b[1;32m      7\u001b[0m \u001b[0mprint\u001b[0m\u001b[0;34m(\u001b[0m\u001b[0;34m\"\\n\\n\\n\"\u001b[0m\u001b[0;34m)\u001b[0m\u001b[0;34m\u001b[0m\u001b[0;34m\u001b[0m\u001b[0m\n\u001b[0;32m----> 8\u001b[0;31m \u001b[0mprint\u001b[0m\u001b[0;34m(\u001b[0m\u001b[0mres\u001b[0m\u001b[0;34m.\u001b[0m\u001b[0mmax\u001b[0m\u001b[0;34m(\u001b[0m\u001b[0;36m1\u001b[0m\u001b[0;34m)\u001b[0m\u001b[0;34m[\u001b[0m\u001b[0;36m1\u001b[0m\u001b[0;34m]\u001b[0m\u001b[0;34m.\u001b[0m\u001b[0mview\u001b[0m\u001b[0;34m(\u001b[0m\u001b[0;36m1\u001b[0m\u001b[0;34m,\u001b[0m\u001b[0;36m1\u001b[0m\u001b[0;34m)\u001b[0m\u001b[0;34m)\u001b[0m\u001b[0;34m\u001b[0m\u001b[0;34m\u001b[0m\u001b[0m\n\u001b[0m",
      "\u001b[0;31mRuntimeError\u001b[0m: shape '[1, 1]' is invalid for input of size 10"
     ]
    }
   ],
   "source": [
    "res = trial(initialState)\n",
    "print(res)\n",
    "print(res.max())\n",
    "print(res.max(1))\n",
    "print(\"\\n\\n\\n\")\n",
    "print(res.max(1)[1])\n",
    "print(\"\\n\\n\\n\")\n",
    "print(res.max(1)[1].view(1,1))"
   ]
  },
  {
   "cell_type": "code",
   "execution_count": 84,
   "metadata": {},
   "outputs": [],
   "source": [
    "# resize = T.Compose([T.ToPILImage(),\n",
    "#                     T.Resize(40, interpolation=Image.CUBIC),\n",
    "#                     T.ToTensor()])\n",
    "\n",
    "\n",
    "# def get_cart_location(screen_width):\n",
    "#     world_width = env.x_threshold * 2\n",
    "#     scale = screen_width / world_width\n",
    "#     return int(env.state[0] * scale + screen_width / 2.0)  # MIDDLE OF CART\n",
    "\n",
    "# def get_screen():\n",
    "#     # Returned screen requested by gym is 400x600x3, but is sometimes larger\n",
    "#     # such as 800x1200x3. Transpose it into torch order (CHW).\n",
    "#     screen = env.render(mode='rgb_array').transpose((2, 0, 1))\n",
    "#     # Cart is in the lower half, so strip off the top and bottom of the screen\n",
    "#     _, screen_height, screen_width = screen.shape\n",
    "#     screen = screen[:, int(screen_height*0.4):int(screen_height * 0.8)]\n",
    "#     view_width = int(screen_width * 0.6)\n",
    "#     cart_location = get_cart_location(screen_width)\n",
    "#     if cart_location < view_width // 2:\n",
    "#         slice_range = slice(view_width)\n",
    "#     elif cart_location > (screen_width - view_width // 2):\n",
    "#         slice_range = slice(-view_width, None)\n",
    "#     else:\n",
    "#         slice_range = slice(cart_location - view_width // 2,\n",
    "#                             cart_location + view_width // 2)\n",
    "#     # Strip off the edges, so that we have a square image centered on a cart\n",
    "#     screen = screen[:, :, slice_range]\n",
    "#     # Convert to float, rescale, convert to torch tensor\n",
    "#     # (this doesn't require a copy)\n",
    "#     screen = np.ascontiguousarray(screen, dtype=np.float32) / 255\n",
    "#     screen = torch.from_numpy(screen)\n",
    "#     # Resize, and add a batch dimension (BCHW)\n",
    "#     return resize(screen).unsqueeze(0).to(device)\n",
    "\n",
    "\n",
    "# env.reset()\n",
    "# plt.figure()\n",
    "# plt.imshow(get_screen().cpu().squeeze(0).permute(1, 2, 0).numpy(),\n",
    "#            interpolation='none')\n",
    "# plt.title('Example extracted screen')\n",
    "# plt.show()"
   ]
  },
  {
   "cell_type": "code",
   "execution_count": null,
   "metadata": {},
   "outputs": [],
   "source": [
    "BATCH_SIZE = 128\n",
    "GAMMA = 0.999\n",
    "EPS_START = 0.9\n",
    "EPS_END = 0.05\n",
    "EPS_DECAY = 200\n",
    "TARGET_UPDATE = 10\n",
    "\n",
    "agentID = 123\n",
    "\n",
    "# Get screen size so that we can initialize layers correctly based on shape\n",
    "# returned from AI gym. Typical dimensions at this point are close to 3x40x90\n",
    "# which is the result of a clamped and down-scaled render buffer in get_screen()\n",
    "init_screen = get_field()\n",
    "screen_height, screen_width = 9,9\n",
    "\n",
    "# Get number of actions from gym action space\n",
    "n_actions = 5\n",
    "\n",
    "policy_net = DQN(screen_height, screen_width, n_actions).to(device)\n",
    "target_net = DQN(screen_height, screen_width, n_actions).to(device)\n",
    "target_net.load_state_dict(policy_net.state_dict())\n",
    "target_net.eval()\n",
    "\n",
    "optimizer = optim.RMSprop(policy_net.parameters())\n",
    "memory = ReplayMemory(10000)\n",
    "\n",
    "\n",
    "steps_done = 0\n",
    "\n",
    "\n",
    "def select_action(state):\n",
    "    global steps_done\n",
    "    sample = random.random()\n",
    "    eps_threshold = EPS_END + (EPS_START - EPS_END) * \\\n",
    "        math.exp(-1. * steps_done / EPS_DECAY)\n",
    "    steps_done += 1\n",
    "    if sample > eps_threshold:\n",
    "        with torch.no_grad():\n",
    "            # t.max(1) will return largest column value of each row.\n",
    "            # second column on max result is index of where max element was\n",
    "            # found, so we pick action with the larger expected reward.\n",
    "            return policy_net(state).max(1)[1].view(1, 1)\n",
    "    else:\n",
    "        return torch.tensor([[random.randrange(n_actions)]], device=device, dtype=torch.long)\n",
    "\n",
    "\n",
    "episode_durations = []\n",
    "\n",
    "\n",
    "def plot_durations():\n",
    "    plt.figure(2)\n",
    "    plt.clf()\n",
    "    durations_t = torch.tensor(episode_durations, dtype=torch.float)\n",
    "    plt.title('Training...')\n",
    "    plt.xlabel('Episode')\n",
    "    plt.ylabel('Duration')\n",
    "    plt.plot(durations_t.numpy())\n",
    "    # Take 100 episode averages and plot them too\n",
    "    if len(durations_t) >= 100:\n",
    "        means = durations_t.unfold(0, 100, 1).mean(1).view(-1)\n",
    "        means = torch.cat((torch.zeros(99), means))\n",
    "        plt.plot(means.numpy())\n",
    "\n",
    "    plt.pause(0.001)  # pause a bit so that plots are updated\n",
    "    if is_ipython:\n",
    "        display.clear_output(wait=True)\n",
    "        display.display(plt.gcf())"
   ]
  },
  {
   "cell_type": "code",
   "execution_count": null,
   "metadata": {},
   "outputs": [],
   "source": [
    "def optimize_model():\n",
    "    if len(memory) < BATCH_SIZE:\n",
    "        return\n",
    "    transitions = memory.sample(BATCH_SIZE)\n",
    "    # Transpose the batch (see https://stackoverflow.com/a/19343/3343043 for\n",
    "    # detailed explanation). This converts batch-array of Transitions\n",
    "    # to Transition of batch-arrays.\n",
    "    batch = Transition(*zip(*transitions))\n",
    "\n",
    "    # Compute a mask of non-final states and concatenate the batch elements\n",
    "    # (a final state would've been the one after which simulation ended)\n",
    "    non_final_mask = torch.tensor(tuple(map(lambda s: s is not None,\n",
    "                                          batch.next_state)), device=device, dtype=torch.bool)\n",
    "    non_final_next_states = torch.cat([s for s in batch.next_state\n",
    "                                                if s is not None])\n",
    "    state_batch = torch.cat(batch.state)\n",
    "    action_batch = torch.cat(batch.action)\n",
    "    reward_batch = torch.cat(batch.reward)\n",
    "\n",
    "    # Compute Q(s_t, a) - the model computes Q(s_t), then we select the\n",
    "    # columns of actions taken. These are the actions which would've been taken\n",
    "    # for each batch state according to policy_net\n",
    "    state_action_values = policy_net(state_batch).gather(1, action_batch)\n",
    "\n",
    "    # Compute V(s_{t+1}) for all next states.\n",
    "    # Expected values of actions for non_final_next_states are computed based\n",
    "    # on the \"older\" target_net; selecting their best reward with max(1)[0].\n",
    "    # This is merged based on the mask, such that we'll have either the expected\n",
    "    # state value or 0 in case the state was final.\n",
    "    next_state_values = torch.zeros(BATCH_SIZE, device=device)\n",
    "    next_state_values[non_final_mask] = target_net(non_final_next_states).max(1)[0].detach()\n",
    "    # Compute the expected Q values\n",
    "    expected_state_action_values = (next_state_values * GAMMA) + reward_batch\n",
    "\n",
    "    # Compute Huber loss\n",
    "    loss = F.smooth_l1_loss(state_action_values, expected_state_action_values.unsqueeze(1))\n",
    "\n",
    "    # Optimize the model\n",
    "    optimizer.zero_grad()\n",
    "    loss.backward()\n",
    "    for param in policy_net.parameters():\n",
    "        param.grad.data.clamp_(-1, 1)\n",
    "    optimizer.step()"
   ]
  },
  {
   "cell_type": "code",
   "execution_count": null,
   "metadata": {},
   "outputs": [],
   "source": [
    "num_episodes = 50\n",
    "for i_episode in range(num_episodes):\n",
    "    # Initialize the environment and state\n",
    "    initializeAgent()\n",
    "#     last_screen = getField()\n",
    "#     current_screen = getField()\n",
    "#     state = current_screen - last_screen\n",
    "    state = getField()\n",
    "    for t in count():\n",
    "        # Select and perform an action\n",
    "        action = select_action(state)\n",
    "        \n",
    "        _, reward, done, _ = moveAgent(action.item(), agentID)\n",
    "        reward = torch.tensor([reward], device=device)\n",
    "\n",
    "        # Observe new state\n",
    "#         last_screen = current_screen\n",
    "#         current_screen = get_screen()\n",
    "        if not done:\n",
    "            next_state = getField()\n",
    "        else:\n",
    "            next_state = None\n",
    "\n",
    "        # Store the transition in memory\n",
    "        memory.push(state, action, next_state, reward)\n",
    "\n",
    "        # Move to the next state\n",
    "        state = getField()\n",
    "\n",
    "        # Perform one step of the optimization (on the target network)\n",
    "        optimize_model()\n",
    "        if done:\n",
    "            episode_durations.append(t + 1)\n",
    "            plot_durations()\n",
    "            break\n",
    "    # Update the target network, copying all weights and biases in DQN\n",
    "    if i_episode % TARGET_UPDATE == 0:\n",
    "        target_net.load_state_dict(policy_net.state_dict())\n",
    "\n",
    "print('Complete')\n",
    "# env.render()\n",
    "# env.close()\n",
    "# plt.ioff()\n",
    "# plt.show()"
   ]
  },
  {
   "cell_type": "code",
   "execution_count": null,
   "metadata": {},
   "outputs": [],
   "source": []
  },
  {
   "cell_type": "code",
   "execution_count": null,
   "metadata": {},
   "outputs": [],
   "source": []
  },
  {
   "cell_type": "code",
   "execution_count": null,
   "metadata": {},
   "outputs": [],
   "source": []
  },
  {
   "cell_type": "code",
   "execution_count": null,
   "metadata": {},
   "outputs": [],
   "source": []
  },
  {
   "cell_type": "code",
   "execution_count": null,
   "metadata": {},
   "outputs": [],
   "source": []
  }
 ],
 "metadata": {
  "kernelspec": {
   "display_name": "Python 3",
   "language": "python",
   "name": "python3"
  },
  "language_info": {
   "codemirror_mode": {
    "name": "ipython",
    "version": 3
   },
   "file_extension": ".py",
   "mimetype": "text/x-python",
   "name": "python",
   "nbconvert_exporter": "python",
   "pygments_lexer": "ipython3",
   "version": "3.6.9"
  }
 },
 "nbformat": 4,
 "nbformat_minor": 4
}
